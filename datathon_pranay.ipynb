{
 "cells": [
  {
   "cell_type": "markdown",
   "metadata": {},
   "source": [
    "# DATATHALON  \n",
    "**Bhakthula Pranay**\n",
    " \n",
    "\n",
    "These crash data are derived from the Metropolitan Police Department's (MPD) crash data management system (COBALT) \n",
    "and represent DDOT's attempt to summarize some of the most requested elements of the crash data.  \n",
    "Further, DDOT has attempted to enhance this summary by locating each crash location along the DDOT center line, \n",
    "providing a number of location references for each crash.  \n",
    "In the event that location data is missing or incomplete for a crash, it is unable to be published within this dataset.\n",
    "\n",
    "\n",
    "we are going to perform data analysis on \"Crash_Details_Table.csv\" file.  \n",
    "\n",
    "Crash details related table,\n",
    "1. Type of participant (driver, occupant, bicyclist, pedestrian)\n",
    "2. Age of participants\n",
    "3. If injured, severity (minor, major, fatal)\n",
    "4. Type of vehicle (passenger car, large truck, taxi, government, bicycle, pedestrian, etc)\n",
    "If persons issued a ticket\n",
    "5. If a vehicle, the state (jurisdiction) license plate was issued (not license plate number)\n",
    "6. Are any persons deemed ‘impaired’\n",
    "7. Was person in vehicle where speeding was indicated"
   ]
  },
  {
   "cell_type": "markdown",
   "metadata": {},
   "source": [
    "# PREPROCESSING:  \n",
    "## importing libraries"
   ]
  },
  {
   "cell_type": "code",
   "execution_count": 138,
   "metadata": {},
   "outputs": [],
   "source": [
    "import numpy as np\n",
    "import pandas as pd\n",
    "import matplotlib.pyplot as plt\n"
   ]
  },
  {
   "cell_type": "markdown",
   "metadata": {},
   "source": [
    "## importing data set  "
   ]
  },
  {
   "cell_type": "code",
   "execution_count": 139,
   "metadata": {},
   "outputs": [
    {
     "data": {
      "text/html": [
       "<div>\n",
       "<style scoped>\n",
       "    .dataframe tbody tr th:only-of-type {\n",
       "        vertical-align: middle;\n",
       "    }\n",
       "\n",
       "    .dataframe tbody tr th {\n",
       "        vertical-align: top;\n",
       "    }\n",
       "\n",
       "    .dataframe thead th {\n",
       "        text-align: right;\n",
       "    }\n",
       "</style>\n",
       "<table border=\"1\" class=\"dataframe\">\n",
       "  <thead>\n",
       "    <tr style=\"text-align: right;\">\n",
       "      <th></th>\n",
       "      <th>OBJECTID</th>\n",
       "      <th>CRIMEID</th>\n",
       "      <th>CCN</th>\n",
       "      <th>PERSONID</th>\n",
       "      <th>PERSONTYPE</th>\n",
       "      <th>AGE</th>\n",
       "      <th>FATAL</th>\n",
       "      <th>MAJORINJURY</th>\n",
       "      <th>MINORINJURY</th>\n",
       "      <th>VEHICLEID</th>\n",
       "      <th>INVEHICLETYPE</th>\n",
       "      <th>TICKETISSUED</th>\n",
       "      <th>LICENSEPLATESTATE</th>\n",
       "      <th>IMPAIRED</th>\n",
       "      <th>SPEEDING</th>\n",
       "    </tr>\n",
       "  </thead>\n",
       "  <tbody>\n",
       "    <tr>\n",
       "      <th>0</th>\n",
       "      <td>438194351</td>\n",
       "      <td>26872544</td>\n",
       "      <td>16034312</td>\n",
       "      <td>84628234</td>\n",
       "      <td>Passenger</td>\n",
       "      <td>31.0</td>\n",
       "      <td>N</td>\n",
       "      <td>N</td>\n",
       "      <td>N</td>\n",
       "      <td>2275009</td>\n",
       "      <td>Passenger Car/automobile</td>\n",
       "      <td>N</td>\n",
       "      <td>VA</td>\n",
       "      <td>Y</td>\n",
       "      <td>N</td>\n",
       "    </tr>\n",
       "    <tr>\n",
       "      <th>1</th>\n",
       "      <td>438194352</td>\n",
       "      <td>26872544</td>\n",
       "      <td>16034312</td>\n",
       "      <td>84833902</td>\n",
       "      <td>Passenger</td>\n",
       "      <td>31.0</td>\n",
       "      <td>N</td>\n",
       "      <td>N</td>\n",
       "      <td>N</td>\n",
       "      <td>2275009</td>\n",
       "      <td>Passenger Car/automobile</td>\n",
       "      <td>N</td>\n",
       "      <td>VA</td>\n",
       "      <td>Y</td>\n",
       "      <td>N</td>\n",
       "    </tr>\n",
       "    <tr>\n",
       "      <th>2</th>\n",
       "      <td>438194353</td>\n",
       "      <td>26872544</td>\n",
       "      <td>16034312</td>\n",
       "      <td>84938064</td>\n",
       "      <td>Driver</td>\n",
       "      <td>NaN</td>\n",
       "      <td>N</td>\n",
       "      <td>N</td>\n",
       "      <td>N</td>\n",
       "      <td>2275007</td>\n",
       "      <td>Passenger Car/automobile</td>\n",
       "      <td>N</td>\n",
       "      <td>None</td>\n",
       "      <td>N</td>\n",
       "      <td>N</td>\n",
       "    </tr>\n",
       "    <tr>\n",
       "      <th>3</th>\n",
       "      <td>438194354</td>\n",
       "      <td>26872544</td>\n",
       "      <td>16034312</td>\n",
       "      <td>84790164</td>\n",
       "      <td>Driver</td>\n",
       "      <td>31.0</td>\n",
       "      <td>N</td>\n",
       "      <td>N</td>\n",
       "      <td>N</td>\n",
       "      <td>2275009</td>\n",
       "      <td>Passenger Car/automobile</td>\n",
       "      <td>N</td>\n",
       "      <td>VA</td>\n",
       "      <td>N</td>\n",
       "      <td>N</td>\n",
       "    </tr>\n",
       "    <tr>\n",
       "      <th>4</th>\n",
       "      <td>438194355</td>\n",
       "      <td>26872544</td>\n",
       "      <td>16034312</td>\n",
       "      <td>84953497</td>\n",
       "      <td>Passenger</td>\n",
       "      <td>47.0</td>\n",
       "      <td>N</td>\n",
       "      <td>N</td>\n",
       "      <td>Y</td>\n",
       "      <td>2275008</td>\n",
       "      <td>Passenger Car/automobile</td>\n",
       "      <td>N</td>\n",
       "      <td>VA</td>\n",
       "      <td>Y</td>\n",
       "      <td>N</td>\n",
       "    </tr>\n",
       "  </tbody>\n",
       "</table>\n",
       "</div>"
      ],
      "text/plain": [
       "    OBJECTID   CRIMEID       CCN  PERSONID PERSONTYPE   AGE FATAL MAJORINJURY  \\\n",
       "0  438194351  26872544  16034312  84628234  Passenger  31.0     N           N   \n",
       "1  438194352  26872544  16034312  84833902  Passenger  31.0     N           N   \n",
       "2  438194353  26872544  16034312  84938064     Driver   NaN     N           N   \n",
       "3  438194354  26872544  16034312  84790164     Driver  31.0     N           N   \n",
       "4  438194355  26872544  16034312  84953497  Passenger  47.0     N           N   \n",
       "\n",
       "  MINORINJURY VEHICLEID             INVEHICLETYPE TICKETISSUED  \\\n",
       "0           N   2275009  Passenger Car/automobile            N   \n",
       "1           N   2275009  Passenger Car/automobile            N   \n",
       "2           N   2275007  Passenger Car/automobile            N   \n",
       "3           N   2275009  Passenger Car/automobile            N   \n",
       "4           Y   2275008  Passenger Car/automobile            N   \n",
       "\n",
       "  LICENSEPLATESTATE IMPAIRED SPEEDING  \n",
       "0                VA        Y        N  \n",
       "1                VA        Y        N  \n",
       "2              None        N        N  \n",
       "3                VA        N        N  \n",
       "4                VA        Y        N  "
      ]
     },
     "execution_count": 139,
     "metadata": {},
     "output_type": "execute_result"
    }
   ],
   "source": [
    "data=pd.read_csv(\"Crash_Details_Table.csv\",low_memory=False)  \n",
    "data.head()"
   ]
  },
  {
   "cell_type": "markdown",
   "metadata": {},
   "source": [
    "## drop missing values  "
   ]
  },
  {
   "cell_type": "code",
   "execution_count": 140,
   "metadata": {},
   "outputs": [],
   "source": [
    "data=data.dropna()  "
   ]
  },
  {
   "cell_type": "markdown",
   "metadata": {},
   "source": [
    "## data reduction column wise"
   ]
  },
  {
   "cell_type": "code",
   "execution_count": 141,
   "metadata": {},
   "outputs": [],
   "source": [
    "data=data.drop(['OBJECTID','CRIMEID','CCN','PERSONID','VEHICLEID'],axis=1)"
   ]
  },
  {
   "cell_type": "markdown",
   "metadata": {},
   "source": [
    "## data reduction rows wise"
   ]
  },
  {
   "cell_type": "code",
   "execution_count": 142,
   "metadata": {},
   "outputs": [
    {
     "name": "stdout",
     "output_type": "stream",
     "text": [
      "                 AGE\n",
      "count  426744.000000\n",
      "mean       38.668302\n",
      "std        20.897059\n",
      "min     -7990.000000\n",
      "25%        27.000000\n",
      "50%        37.000000\n",
      "75%        51.000000\n",
      "max       237.000000\n"
     ]
    }
   ],
   "source": [
    "print(data.describe())"
   ]
  },
  {
   "cell_type": "markdown",
   "metadata": {},
   "source": [
    "Since we observe that there are observations for AGE above 100 and also below 0 which is not possible  \n",
    "considering average lifespan of humans.   \n",
    "So we remove those rows having AGE>100 and AGE<=0.  \n"
   ]
  },
  {
   "cell_type": "code",
   "execution_count": 143,
   "metadata": {},
   "outputs": [
    {
     "name": "stdout",
     "output_type": "stream",
     "text": [
      "after removing data below the age of 0 and above the age of 100 \n",
      "                 AGE\n",
      "count  413223.000000\n",
      "mean       39.883937\n",
      "std        15.448436\n",
      "min         1.000000\n",
      "25%        28.000000\n",
      "50%        38.000000\n",
      "75%        51.000000\n",
      "max        99.000000\n"
     ]
    }
   ],
   "source": [
    "data=data[(data['AGE']<100)&(data['AGE']>0)]\n",
    "print('after removing data below the age of 0 and above the age of 100 ')\n",
    "print(data.describe())"
   ]
  },
  {
   "cell_type": "markdown",
   "metadata": {},
   "source": [
    "## merging FATAL,MAJORINJURY,MINORINJURY into one variable - Fatal  "
   ]
  },
  {
   "cell_type": "code",
   "execution_count": 144,
   "metadata": {},
   "outputs": [],
   "source": [
    "data['Fatal']='NOINJURY'  \n",
    "\n",
    "fat=data['FATAL'].copy()  \n",
    "maj=data['MAJORINJURY'].copy()  \n",
    "mino=data['MINORINJURY'].copy()  \n",
    "\n",
    "fat[fat=='N']=0  \n",
    "fat[fat=='Y']=1  \n",
    "\n",
    "maj[maj=='N']=0  \n",
    "maj[maj=='Y']=1  \n",
    "\n",
    "mino[mino=='N']=0  \n",
    "mino[mino=='Y']=1  \n",
    "\n",
    "Fatal=data['Fatal'].copy()  \n",
    "Fatal[fat==1]='FATAL'  \n",
    "Fatal[maj==1]='MAJORINJURY'  \n",
    "Fatal[mino==1]='MINORINJURY'  \n",
    "\n",
    "data['Fatal']=Fatal  "
   ]
  },
  {
   "cell_type": "code",
   "execution_count": 145,
   "metadata": {},
   "outputs": [],
   "source": [
    "data1=data.drop(['FATAL','MAJORINJURY','MINORINJURY'],axis=1)"
   ]
  },
  {
   "cell_type": "code",
   "execution_count": 146,
   "metadata": {},
   "outputs": [
    {
     "data": {
      "text/html": [
       "<div>\n",
       "<style scoped>\n",
       "    .dataframe tbody tr th:only-of-type {\n",
       "        vertical-align: middle;\n",
       "    }\n",
       "\n",
       "    .dataframe tbody tr th {\n",
       "        vertical-align: top;\n",
       "    }\n",
       "\n",
       "    .dataframe thead th {\n",
       "        text-align: right;\n",
       "    }\n",
       "</style>\n",
       "<table border=\"1\" class=\"dataframe\">\n",
       "  <thead>\n",
       "    <tr style=\"text-align: right;\">\n",
       "      <th></th>\n",
       "      <th>PERSONTYPE</th>\n",
       "      <th>AGE</th>\n",
       "      <th>INVEHICLETYPE</th>\n",
       "      <th>TICKETISSUED</th>\n",
       "      <th>LICENSEPLATESTATE</th>\n",
       "      <th>IMPAIRED</th>\n",
       "      <th>SPEEDING</th>\n",
       "      <th>Fatal</th>\n",
       "    </tr>\n",
       "  </thead>\n",
       "  <tbody>\n",
       "    <tr>\n",
       "      <th>0</th>\n",
       "      <td>Passenger</td>\n",
       "      <td>31.0</td>\n",
       "      <td>Passenger Car/automobile</td>\n",
       "      <td>N</td>\n",
       "      <td>VA</td>\n",
       "      <td>Y</td>\n",
       "      <td>N</td>\n",
       "      <td>NOINJURY</td>\n",
       "    </tr>\n",
       "    <tr>\n",
       "      <th>1</th>\n",
       "      <td>Passenger</td>\n",
       "      <td>31.0</td>\n",
       "      <td>Passenger Car/automobile</td>\n",
       "      <td>N</td>\n",
       "      <td>VA</td>\n",
       "      <td>Y</td>\n",
       "      <td>N</td>\n",
       "      <td>NOINJURY</td>\n",
       "    </tr>\n",
       "    <tr>\n",
       "      <th>3</th>\n",
       "      <td>Driver</td>\n",
       "      <td>31.0</td>\n",
       "      <td>Passenger Car/automobile</td>\n",
       "      <td>N</td>\n",
       "      <td>VA</td>\n",
       "      <td>N</td>\n",
       "      <td>N</td>\n",
       "      <td>NOINJURY</td>\n",
       "    </tr>\n",
       "    <tr>\n",
       "      <th>4</th>\n",
       "      <td>Passenger</td>\n",
       "      <td>47.0</td>\n",
       "      <td>Passenger Car/automobile</td>\n",
       "      <td>N</td>\n",
       "      <td>VA</td>\n",
       "      <td>Y</td>\n",
       "      <td>N</td>\n",
       "      <td>MINORINJURY</td>\n",
       "    </tr>\n",
       "    <tr>\n",
       "      <th>5</th>\n",
       "      <td>Driver</td>\n",
       "      <td>63.0</td>\n",
       "      <td>Passenger Car/automobile</td>\n",
       "      <td>N</td>\n",
       "      <td>VA</td>\n",
       "      <td>N</td>\n",
       "      <td>N</td>\n",
       "      <td>NOINJURY</td>\n",
       "    </tr>\n",
       "  </tbody>\n",
       "</table>\n",
       "</div>"
      ],
      "text/plain": [
       "  PERSONTYPE   AGE             INVEHICLETYPE TICKETISSUED LICENSEPLATESTATE  \\\n",
       "0  Passenger  31.0  Passenger Car/automobile            N                VA   \n",
       "1  Passenger  31.0  Passenger Car/automobile            N                VA   \n",
       "3     Driver  31.0  Passenger Car/automobile            N                VA   \n",
       "4  Passenger  47.0  Passenger Car/automobile            N                VA   \n",
       "5     Driver  63.0  Passenger Car/automobile            N                VA   \n",
       "\n",
       "  IMPAIRED SPEEDING        Fatal  \n",
       "0        Y        N     NOINJURY  \n",
       "1        Y        N     NOINJURY  \n",
       "3        N        N     NOINJURY  \n",
       "4        Y        N  MINORINJURY  \n",
       "5        N        N     NOINJURY  "
      ]
     },
     "execution_count": 146,
     "metadata": {},
     "output_type": "execute_result"
    }
   ],
   "source": [
    "data1.head()"
   ]
  },
  {
   "cell_type": "markdown",
   "metadata": {},
   "source": [
    "## changing the data types of necessary variables to categorical data type"
   ]
  },
  {
   "cell_type": "code",
   "execution_count": 147,
   "metadata": {},
   "outputs": [],
   "source": [
    "data1['TICKETISSUED']=data1['TICKETISSUED'].astype('category')\n",
    "data1['IMPAIRED']=data1['IMPAIRED'].astype('category')\n",
    "data1['SPEEDING']=data1['SPEEDING'].astype('category')\n",
    "data1['Fatal']=data1['Fatal'].astype('category')"
   ]
  },
  {
   "cell_type": "markdown",
   "metadata": {},
   "source": [
    "# Exploratory Data Analysis (EDA):\n",
    "## unique values of various columns "
   ]
  },
  {
   "cell_type": "code",
   "execution_count": 148,
   "metadata": {},
   "outputs": [
    {
     "name": "stdout",
     "output_type": "stream",
     "text": [
      "types of persons\n",
      "['Passenger', 'Driver', 'Pedestrian', 'Bicyclist']\n",
      "\n",
      "\n",
      "types of vehicles\n",
      "['Passenger Car/automobile', 'Other Vehicle', 'Suv (sport Utility Vehicle)', 'Large/heavy Truck', 'Cargo Van', 'None', 'Passenger Van', 'Firearms', 'Other Small/light Truck', 'Bus', 'Atv (all Terrain Vehicle)', 'Moped/scooter', 'Pickup Truck', 'Motor Cycle', 'Drugs/ Narcotics', 'Construction/industrial Equipment', 'Trailer', 'Farm Equipment', 'Motorhome/camper/rv (recreational Vehicle)', 'Snow Mobile', 'Watercraft/boat', 'Aircraft']\n",
      "\n",
      "\n",
      "various types of license plates of different states\n",
      "['VA', 'NY', 'MD', 'IN', 'DC', ' None', 'IL', 'WV', 'OH', 'US', 'PA', 'UT', 'NJ', 'CT', 'AZ', 'CA', 'NC', 'Ot', 'TX', 'LA', 'SC', 'Di', 'FL', 'KY', 'Un', 'MA', 'AL', 'GA', 'DE', 'OK', 'MN', 'TN', 'MI', 'MO', 'CO', 'VT', 'NH', 'ID', 'KS', 'OR', 'MS', 'AR', 'Ou', 'ME', 'ND', 'WA', 'WI', 'AK', 'NM', 'Vi', 'IA', 'NE', 'RI', 'NV', 'WY', 'SD', 'MT', 'HI']\n"
     ]
    }
   ],
   "source": [
    "print('types of persons')\n",
    "print(list(data1['PERSONTYPE'].unique()))\n",
    "print('\\n')\n",
    "print('types of vehicles')\n",
    "print(list(data1['INVEHICLETYPE'].unique()))\n",
    "print('\\n')\n",
    "print('various types of license plates of different states')\n",
    "print(list(data1['LICENSEPLATESTATE'].unique()))\n"
   ]
  },
  {
   "cell_type": "markdown",
   "metadata": {},
   "source": [
    "## histogram - persontype vs count"
   ]
  },
  {
   "cell_type": "code",
   "execution_count": 149,
   "metadata": {},
   "outputs": [
    {
     "data": {
      "image/png": "[encoded data removed]",
      "text/plain": [
       "<Figure size 432x288 with 1 Axes>"
      ]
     },
     "metadata": {
      "needs_background": "light"
     },
     "output_type": "display_data"
    }
   ],
   "source": [
    "data1['PERSONTYPE'].value_counts().plot(kind='bar')\n",
    "plt.title('PERSONTYPE vs count')\n",
    "plt.show()"
   ]
  },
  {
   "cell_type": "markdown",
   "metadata": {},
   "source": [
    "We can observe that of all the types of persons involved in accidents, Drivers are the most in number,  \n",
    "followed by passenger, Pedestrian and Bicyclist in decreasing order. There is a large difference between count of   \n",
    "accidents of all the other types of persons and drivers.  \n",
    "\n",
    "## histogram - AGE vs count"
   ]
  },
  {
   "cell_type": "code",
   "execution_count": 150,
   "metadata": {},
   "outputs": [
    {
     "data": {
      "image/png": "[encoded data removed]",
      "text/plain": [
       "<Figure size 432x288 with 1 Axes>"
      ]
     },
     "metadata": {
      "needs_background": "light"
     },
     "output_type": "display_data"
    }
   ],
   "source": [
    "bins= [0,10,20,30,40,50,60,70,80,90,100]\n",
    "labels = ['1-10','11-20','21-30','31-40','41-50','51-60','61-70','71-80','81-90','91-100']\n",
    "age1= pd.cut(data1['AGE'], bins=bins, labels=labels, right=False)\n",
    "\n",
    "age1.value_counts().plot(kind='bar')\n",
    "plt.title('AGE vs count')\n",
    "plt.show()\n"
   ]
  },
  {
   "cell_type": "markdown",
   "metadata": {},
   "source": [
    "We can observe that the age group 21-40 are recoreded the most in our dataset, followed by age groups 41-50, 51-60  \n",
    "and 61-70 in decreasing order. age groups 1-20,71-100 are less recoreded. The age group 91-100 is the least recorded age group. \n",
    "\n",
    "## histogram - Fatal vs count  "
   ]
  },
  {
   "cell_type": "code",
   "execution_count": 151,
   "metadata": {},
   "outputs": [
    {
     "data": {
      "image/png": "[encoded data removed]",
      "text/plain": [
       "<Figure size 432x288 with 1 Axes>"
      ]
     },
     "metadata": {
      "needs_background": "light"
     },
     "output_type": "display_data"
    }
   ],
   "source": [
    "data1['Fatal'].value_counts().plot(kind='bar')\n",
    "plt.title('Fatal vs count')\n",
    "plt.show()"
   ]
  },
  {
   "cell_type": "markdown",
   "metadata": {},
   "source": [
    "Since our concentration is on injuries, we remove 'NOINJURY' count."
   ]
  },
  {
   "cell_type": "code",
   "execution_count": 152,
   "metadata": {},
   "outputs": [
    {
     "data": {
      "image/png": "[encoded data removed]",
      "text/plain": [
       "<Figure size 432x288 with 1 Axes>"
      ]
     },
     "metadata": {
      "needs_background": "light"
     },
     "output_type": "display_data"
    }
   ],
   "source": [
    "data1[data1['Fatal']!='NOINJURY']['Fatal'].value_counts().plot(kind='bar')\n",
    "plt.title('Fatal vs count')\n",
    "plt.show()"
   ]
  },
  {
   "cell_type": "markdown",
   "metadata": {},
   "source": [
    "we can observe that most of the injuries are minor injuries, followed by major injuries and \n",
    "least of the injuries are FATAL injuries."
   ]
  },
  {
   "cell_type": "code",
   "execution_count": 153,
   "metadata": {},
   "outputs": [
    {
     "name": "stdout",
     "output_type": "stream",
     "text": [
      "% of fatal injury in data = 0.073 %\n",
      "% of major injury in data = 2.054 %\n",
      "% of minor injury in data = 12.641 %\n",
      "% of no injury in data = 85.232 %\n"
     ]
    }
   ],
   "source": [
    "fatal_per=len(Fatal[Fatal=='FATAL'])/len(Fatal)\n",
    "major_per=len(Fatal[Fatal=='MAJORINJURY'])/len(Fatal)\n",
    "minor_per=len(Fatal[Fatal=='MINORINJURY'])/len(Fatal)\n",
    "noinjury_per=1-(fatal_per+major_per+minor_per)\n",
    "\n",
    "print(\"% of fatal injury in data = {:.3f} %\".format(fatal_per*100))\n",
    "print(\"% of major injury in data = {:.3f} %\" .format(major_per*100))\n",
    "print(\"% of minor injury in data = {:.3f} %\" .format(minor_per*100))\n",
    "print(\"% of no injury in data = {:.3f} %\" .format(noinjury_per*100))"
   ]
  },
  {
   "cell_type": "markdown",
   "metadata": {},
   "source": [
    "## vehicle type vs count"
   ]
  },
  {
   "cell_type": "code",
   "execution_count": 154,
   "metadata": {},
   "outputs": [
    {
     "data": {
      "image/png": "[encoded data removed]",
      "text/plain": [
       "<Figure size 432x288 with 1 Axes>"
      ]
     },
     "metadata": {
      "needs_background": "light"
     },
     "output_type": "display_data"
    }
   ],
   "source": [
    "data1['INVEHICLETYPE'].value_counts().plot(kind='bar')\n",
    "plt.title('Vehicle type vs count')\n",
    "plt.show()"
   ]
  },
  {
   "cell_type": "markdown",
   "metadata": {},
   "source": [
    "We can observe that 'Passenger Car/automobile' has the most accidents recorded in the data.\n",
    "since in the above plot the data looks conjusted lets remove 'Passenger Car/automobile' from the graph and\n",
    "look at the next 10 types of vehicles.\n"
   ]
  },
  {
   "cell_type": "code",
   "execution_count": 155,
   "metadata": {},
   "outputs": [
    {
     "data": {
      "image/png": "[encoded data removed]",
      "text/plain": [
       "<Figure size 432x288 with 1 Axes>"
      ]
     },
     "metadata": {
      "needs_background": "light"
     },
     "output_type": "display_data"
    }
   ],
   "source": [
    "data1['INVEHICLETYPE'].value_counts().head(11)[1:].plot(kind='bar')\n",
    "plt.title('Vehicle type vs count')\n",
    "plt.show()"
   ]
  },
  {
   "cell_type": "markdown",
   "metadata": {},
   "source": [
    "## top 10 state liscense plates with most accidents"
   ]
  },
  {
   "cell_type": "code",
   "execution_count": 156,
   "metadata": {},
   "outputs": [
    {
     "data": {
      "text/plain": [
       "DC       164197\n",
       "MD       134318\n",
       "VA        58767\n",
       " None     23878\n",
       "PA         3145\n",
       "FL         2541\n",
       "NC         2538\n",
       "NY         2265\n",
       "NJ         2155\n",
       "US         1646\n",
       "Name: LICENSEPLATESTATE, dtype: int64"
      ]
     },
     "execution_count": 156,
     "metadata": {},
     "output_type": "execute_result"
    }
   ],
   "source": [
    "data1['LICENSEPLATESTATE'].value_counts().head(10)"
   ]
  },
  {
   "cell_type": "markdown",
   "metadata": {},
   "source": [
    "we can observe that license plate 'DC' has the most accidents followed by Mary Land,Virginia. We can also observe that there are lot (23878)\n",
    "number of vehicles with 'no' license plates by looking at ' None' license plate type.  \n",
    "\n",
    "## bottom 10 state liscense plates with most accidents"
   ]
  },
  {
   "cell_type": "code",
   "execution_count": 157,
   "metadata": {},
   "outputs": [
    {
     "data": {
      "text/plain": [
       "UT    54\n",
       "NV    53\n",
       "WY    53\n",
       "Vi    44\n",
       "AK    40\n",
       "MT    39\n",
       "ID    29\n",
       "SD    25\n",
       "ND    25\n",
       "HI     9\n",
       "Name: LICENSEPLATESTATE, dtype: int64"
      ]
     },
     "execution_count": 157,
     "metadata": {},
     "output_type": "execute_result"
    }
   ],
   "source": [
    "data1['LICENSEPLATESTATE'].value_counts().tail(10)"
   ]
  },
  {
   "cell_type": "markdown",
   "metadata": {},
   "source": [
    "we can observe that license plate 'Hawaii' has the least accidents followed by North Dakota,South Dakota.  "
   ]
  },
  {
   "cell_type": "code",
   "execution_count": 158,
   "metadata": {},
   "outputs": [
    {
     "name": "stdout",
     "output_type": "stream",
     "text": [
      "FATAL injuries while speeding = 45\n",
      "MAJOR injuries while speeding = 215\n",
      "MINOR injuries while speeding = 563\n"
     ]
    }
   ],
   "source": [
    "print('FATAL injuries while speeding =',data1[(data1['Fatal']=='FATAL')&(data1['SPEEDING']=='Y')]['Fatal'].count())\n",
    "print('MAJOR injuries while speeding =',data1[(data1['Fatal']=='MAJORINJURY')&(data1['SPEEDING']=='Y')]['Fatal'].count())\n",
    "print('MINOR injuries while speeding =',data1[(data1['Fatal']=='MINORINJURY')&(data1['SPEEDING']=='Y')]['Fatal'].count())\n"
   ]
  },
  {
   "cell_type": "code",
   "execution_count": 159,
   "metadata": {},
   "outputs": [
    {
     "name": "stdout",
     "output_type": "stream",
     "text": [
      "FATAL injuries while IMPAIRED = 6\n",
      "MAJOR injuries while IMPAIRED = 114\n",
      "MINOR injuries while IMPAIRED = 710\n"
     ]
    }
   ],
   "source": [
    "print('FATAL injuries while IMPAIRED =',data1[(data1['Fatal']=='FATAL')&(data1['IMPAIRED']=='Y')]['Fatal'].count())\n",
    "print('MAJOR injuries while IMPAIRED =',data1[(data1['Fatal']=='MAJORINJURY')&(data1['IMPAIRED']=='Y')]['Fatal'].count())\n",
    "print('MINOR injuries while IMPAIRED =',data1[(data1['Fatal']=='MINORINJURY')&(data1['IMPAIRED']=='Y')]['Fatal'].count())"
   ]
  },
  {
   "cell_type": "code",
   "execution_count": 160,
   "metadata": {},
   "outputs": [
    {
     "name": "stdout",
     "output_type": "stream",
     "text": [
      "FATAL injuries while TICKETISSUED = 37\n",
      "MAJOR injuries while TICKETISSUED = 470\n",
      "MINOR injuries while TICKETISSUED = 8876\n"
     ]
    }
   ],
   "source": [
    "print('FATAL injuries while TICKETISSUED =',data1[(data1['Fatal']=='FATAL')&(data1['TICKETISSUED']=='Y')]['Fatal'].count())\n",
    "print('MAJOR injuries while TICKETISSUED =',data1[(data1['Fatal']=='MAJORINJURY')&(data1['TICKETISSUED']=='Y')]['Fatal'].count())\n",
    "print('MINOR injuries while TICKETISSUED =',data1[(data1['Fatal']=='MINORINJURY')&(data1['TICKETISSUED']=='Y')]['Fatal'].count())"
   ]
  },
  {
   "cell_type": "code",
   "execution_count": 161,
   "metadata": {},
   "outputs": [],
   "source": [
    "data2=data1.copy()"
   ]
  },
  {
   "cell_type": "markdown",
   "metadata": {},
   "source": [
    "We can observe that we don not need 'INVEHICLETYPE', 'LICENSEPLATESTATE' variables for regression as  \n",
    "they are string variable and have many unique values. So One Hot Encoding will create many number of columns.  "
   ]
  },
  {
   "cell_type": "code",
   "execution_count": 162,
   "metadata": {},
   "outputs": [
    {
     "data": {
      "text/html": [
       "<div>\n",
       "<style scoped>\n",
       "    .dataframe tbody tr th:only-of-type {\n",
       "        vertical-align: middle;\n",
       "    }\n",
       "\n",
       "    .dataframe tbody tr th {\n",
       "        vertical-align: top;\n",
       "    }\n",
       "\n",
       "    .dataframe thead th {\n",
       "        text-align: right;\n",
       "    }\n",
       "</style>\n",
       "<table border=\"1\" class=\"dataframe\">\n",
       "  <thead>\n",
       "    <tr style=\"text-align: right;\">\n",
       "      <th></th>\n",
       "      <th>PERSONTYPE</th>\n",
       "      <th>AGE</th>\n",
       "      <th>INVEHICLETYPE</th>\n",
       "      <th>TICKETISSUED</th>\n",
       "      <th>LICENSEPLATESTATE</th>\n",
       "      <th>IMPAIRED</th>\n",
       "      <th>SPEEDING</th>\n",
       "      <th>Fatal</th>\n",
       "      <th>FATAL</th>\n",
       "      <th>MAJORINJURY</th>\n",
       "      <th>MINORINJURY</th>\n",
       "    </tr>\n",
       "  </thead>\n",
       "  <tbody>\n",
       "    <tr>\n",
       "      <th>0</th>\n",
       "      <td>Passenger</td>\n",
       "      <td>31.0</td>\n",
       "      <td>Passenger Car/automobile</td>\n",
       "      <td>N</td>\n",
       "      <td>VA</td>\n",
       "      <td>Y</td>\n",
       "      <td>N</td>\n",
       "      <td>NOINJURY</td>\n",
       "      <td>N</td>\n",
       "      <td>N</td>\n",
       "      <td>N</td>\n",
       "    </tr>\n",
       "    <tr>\n",
       "      <th>1</th>\n",
       "      <td>Passenger</td>\n",
       "      <td>31.0</td>\n",
       "      <td>Passenger Car/automobile</td>\n",
       "      <td>N</td>\n",
       "      <td>VA</td>\n",
       "      <td>Y</td>\n",
       "      <td>N</td>\n",
       "      <td>NOINJURY</td>\n",
       "      <td>N</td>\n",
       "      <td>N</td>\n",
       "      <td>N</td>\n",
       "    </tr>\n",
       "    <tr>\n",
       "      <th>3</th>\n",
       "      <td>Driver</td>\n",
       "      <td>31.0</td>\n",
       "      <td>Passenger Car/automobile</td>\n",
       "      <td>N</td>\n",
       "      <td>VA</td>\n",
       "      <td>N</td>\n",
       "      <td>N</td>\n",
       "      <td>NOINJURY</td>\n",
       "      <td>N</td>\n",
       "      <td>N</td>\n",
       "      <td>N</td>\n",
       "    </tr>\n",
       "    <tr>\n",
       "      <th>4</th>\n",
       "      <td>Passenger</td>\n",
       "      <td>47.0</td>\n",
       "      <td>Passenger Car/automobile</td>\n",
       "      <td>N</td>\n",
       "      <td>VA</td>\n",
       "      <td>Y</td>\n",
       "      <td>N</td>\n",
       "      <td>MINORINJURY</td>\n",
       "      <td>N</td>\n",
       "      <td>N</td>\n",
       "      <td>Y</td>\n",
       "    </tr>\n",
       "    <tr>\n",
       "      <th>5</th>\n",
       "      <td>Driver</td>\n",
       "      <td>63.0</td>\n",
       "      <td>Passenger Car/automobile</td>\n",
       "      <td>N</td>\n",
       "      <td>VA</td>\n",
       "      <td>N</td>\n",
       "      <td>N</td>\n",
       "      <td>NOINJURY</td>\n",
       "      <td>N</td>\n",
       "      <td>N</td>\n",
       "      <td>N</td>\n",
       "    </tr>\n",
       "  </tbody>\n",
       "</table>\n",
       "</div>"
      ],
      "text/plain": [
       "  PERSONTYPE   AGE             INVEHICLETYPE TICKETISSUED LICENSEPLATESTATE  \\\n",
       "0  Passenger  31.0  Passenger Car/automobile            N                VA   \n",
       "1  Passenger  31.0  Passenger Car/automobile            N                VA   \n",
       "3     Driver  31.0  Passenger Car/automobile            N                VA   \n",
       "4  Passenger  47.0  Passenger Car/automobile            N                VA   \n",
       "5     Driver  63.0  Passenger Car/automobile            N                VA   \n",
       "\n",
       "  IMPAIRED SPEEDING        Fatal FATAL MAJORINJURY MINORINJURY  \n",
       "0        Y        N     NOINJURY     N           N           N  \n",
       "1        Y        N     NOINJURY     N           N           N  \n",
       "3        N        N     NOINJURY     N           N           N  \n",
       "4        Y        N  MINORINJURY     N           N           Y  \n",
       "5        N        N     NOINJURY     N           N           N  "
      ]
     },
     "execution_count": 162,
     "metadata": {},
     "output_type": "execute_result"
    }
   ],
   "source": [
    "data2['FATAL']=data['FATAL'].copy()\n",
    "data2['MAJORINJURY']=data['MAJORINJURY'].copy()\n",
    "data2['MINORINJURY']=data['MINORINJURY'].copy()\n",
    "data2.head()\n"
   ]
  },
  {
   "cell_type": "markdown",
   "metadata": {},
   "source": [
    "## Feature selection:"
   ]
  },
  {
   "cell_type": "code",
   "execution_count": 163,
   "metadata": {},
   "outputs": [],
   "source": [
    "X=data2.iloc[:,:-4].values\n",
    "Y1=data2.iloc[:,-3].values\n",
    "Y2=data2.iloc[:,-2].values\n",
    "Y3=data2.iloc[:,-1].values"
   ]
  },
  {
   "cell_type": "markdown",
   "metadata": {},
   "source": [
    "Y1 - FATAL  \n",
    "Y2 - MAJORINJURY  \n",
    "Y3 - MINORINJURY  "
   ]
  },
  {
   "cell_type": "code",
   "execution_count": 164,
   "metadata": {},
   "outputs": [],
   "source": [
    "from sklearn.compose import ColumnTransformer\n",
    "from sklearn.preprocessing import OneHotEncoder\n",
    "ct=ColumnTransformer(transformers=[('encoder',OneHotEncoder(),[0])],remainder='passthrough')\n",
    "X=np.array(ct.fit_transform(X))"
   ]
  },
  {
   "cell_type": "markdown",
   "metadata": {},
   "source": [
    "to avoid dummy variable trap drop 4th column in 'X'"
   ]
  },
  {
   "cell_type": "code",
   "execution_count": 165,
   "metadata": {},
   "outputs": [],
   "source": [
    "X=np.delete(X,3,axis=1)"
   ]
  },
  {
   "cell_type": "markdown",
   "metadata": {},
   "source": [
    "**One Hot Encoding the variables:**"
   ]
  },
  {
   "cell_type": "code",
   "execution_count": 166,
   "metadata": {},
   "outputs": [],
   "source": [
    "ct1=ColumnTransformer(transformers=[('encoder',OneHotEncoder(),[4])],remainder='passthrough')\n",
    "X=np.array(ct1.fit_transform(X))"
   ]
  },
  {
   "cell_type": "code",
   "execution_count": 167,
   "metadata": {},
   "outputs": [],
   "source": [
    "ct2=ColumnTransformer(transformers=[('encoder',OneHotEncoder(),[-3])],remainder='passthrough')\n",
    "X=np.array(ct2.fit_transform(X))"
   ]
  },
  {
   "cell_type": "markdown",
   "metadata": {},
   "source": [
    "We have applied One Hot Encoding on persontype, vehicletype and State License plate."
   ]
  },
  {
   "cell_type": "markdown",
   "metadata": {},
   "source": [
    "**Label Encoding**  \n",
    "For X variables -"
   ]
  },
  {
   "cell_type": "code",
   "execution_count": 168,
   "metadata": {},
   "outputs": [],
   "source": [
    "from sklearn.preprocessing import LabelEncoder\n",
    "le1=LabelEncoder()\n",
    "X[:,-3]=le1.fit_transform(X[:,-3])\n",
    "X[:,-2]=le1.fit_transform(X[:,-2])\n",
    "X[:,-1]=le1.fit_transform(X[:,-1])"
   ]
  },
  {
   "cell_type": "markdown",
   "metadata": {},
   "source": [
    "We have applied Label Encoding on TicketIssued, Impaired and Speeding."
   ]
  },
  {
   "cell_type": "markdown",
   "metadata": {},
   "source": [
    "For Y variables -"
   ]
  },
  {
   "cell_type": "code",
   "execution_count": 169,
   "metadata": {},
   "outputs": [],
   "source": [
    "Y1=le1.fit_transform(Y1)\n",
    "Y2=le1.fit_transform(Y2)\n",
    "Y3=le1.fit_transform(Y3)"
   ]
  },
  {
   "cell_type": "markdown",
   "metadata": {},
   "source": [
    "## Linear model on Y1:  \n",
    "### train, test split - "
   ]
  },
  {
   "cell_type": "code",
   "execution_count": 170,
   "metadata": {},
   "outputs": [],
   "source": [
    "from sklearn.model_selection import train_test_split\n",
    "X1_train,X1_test,Y1_train,Y1_test=train_test_split(X,Y1,test_size=0.2,random_state=1)"
   ]
  },
  {
   "cell_type": "markdown",
   "metadata": {},
   "source": [
    "**Standardization -**"
   ]
  },
  {
   "cell_type": "code",
   "execution_count": 171,
   "metadata": {},
   "outputs": [],
   "source": [
    "from sklearn.preprocessing import StandardScaler\n",
    "sc1=StandardScaler()\n",
    "z1=X1_train[:,-4].reshape(-1,1)\n",
    "z2=X1_test[:,-4].reshape(-1,1)\n",
    "z4=sc1.fit_transform(z1)\n",
    "z5=sc1.transform(z2)"
   ]
  },
  {
   "cell_type": "code",
   "execution_count": 172,
   "metadata": {},
   "outputs": [],
   "source": [
    "z4=z4.reshape(-1)\n",
    "z5=z5.reshape(-1)\n",
    "X1_train[:,-4]=z4\n",
    "X1_test[:,-4]=z5"
   ]
  },
  {
   "cell_type": "markdown",
   "metadata": {},
   "source": [
    "### Linear regression on Y1:"
   ]
  },
  {
   "cell_type": "code",
   "execution_count": 173,
   "metadata": {},
   "outputs": [
    {
     "data": {
      "text/plain": [
       "LinearRegression(copy_X=True, fit_intercept=True, n_jobs=None, normalize=False)"
      ]
     },
     "execution_count": 173,
     "metadata": {},
     "output_type": "execute_result"
    }
   ],
   "source": [
    "from sklearn.linear_model import LinearRegression\n",
    "regressor1=LinearRegression()\n",
    "regressor1.fit(X1_train,Y1_train)"
   ]
  },
  {
   "cell_type": "code",
   "execution_count": 174,
   "metadata": {},
   "outputs": [],
   "source": [
    "Y1_pred=regressor1.predict(X1_test)"
   ]
  },
  {
   "cell_type": "markdown",
   "metadata": {},
   "source": [
    "compare predicted values with test values"
   ]
  },
  {
   "cell_type": "code",
   "execution_count": 175,
   "metadata": {},
   "outputs": [
    {
     "name": "stdout",
     "output_type": "stream",
     "text": [
      "[[0. 0.]\n",
      " [0. 0.]\n",
      " [0. 0.]\n",
      " ...\n",
      " [0. 0.]\n",
      " [0. 0.]\n",
      " [0. 0.]]\n"
     ]
    }
   ],
   "source": [
    "compare1=np.concatenate( ( Y1_pred.reshape(len(Y1_pred),1) ,Y1_test.reshape(len(Y1_test),1) ), axis=1)\n",
    "np.set_printoptions(precision=2)\n",
    "print(compare1)"
   ]
  },
  {
   "cell_type": "markdown",
   "metadata": {},
   "source": [
    "### scatter plot - test vs predicted:"
   ]
  },
  {
   "cell_type": "code",
   "execution_count": 176,
   "metadata": {},
   "outputs": [
    {
     "data": {
      "image/png": "[encoded data removed]",
      "text/plain": [
       "<Figure size 432x288 with 1 Axes>"
      ]
     },
     "metadata": {
      "needs_background": "light"
     },
     "output_type": "display_data"
    }
   ],
   "source": [
    "plt.scatter(Y1_pred,Y1_test,color='red')\n",
    "plt.title('predicted values vs test values')\n",
    "plt.show()"
   ]
  },
  {
   "cell_type": "markdown",
   "metadata": {},
   "source": [
    "### Adjusted R-squared value"
   ]
  },
  {
   "cell_type": "code",
   "execution_count": 177,
   "metadata": {},
   "outputs": [
    {
     "name": "stdout",
     "output_type": "stream",
     "text": [
      "adj r2 = -0.0015164861134204788\n"
     ]
    }
   ],
   "source": [
    "from sklearn.metrics import r2_score\n",
    "print('adj r2 =',r2_score(Y1_test,Y1_pred))"
   ]
  },
  {
   "cell_type": "markdown",
   "metadata": {},
   "source": [
    "**From the above adjusted r2 value we can say that the model is insufficient to predict 'FATAL' injuries.**  \n",
    "**The reason might be  due to low number of observarions for 'FATAL' injuries.**"
   ]
  },
  {
   "cell_type": "markdown",
   "metadata": {},
   "source": [
    "## Linear model on Y2:  \n",
    "### train, test split - "
   ]
  },
  {
   "cell_type": "code",
   "execution_count": 178,
   "metadata": {},
   "outputs": [],
   "source": [
    "X2_train,X2_test,Y2_train,Y2_test=train_test_split(X,Y2,test_size=0.2,random_state=1)"
   ]
  },
  {
   "cell_type": "markdown",
   "metadata": {},
   "source": [
    "**Standardization -**"
   ]
  },
  {
   "cell_type": "code",
   "execution_count": 179,
   "metadata": {},
   "outputs": [],
   "source": [
    "sc2=StandardScaler()\n",
    "z1=X2_train[:,-4].reshape(-1,1)\n",
    "z2=X2_test[:,-4].reshape(-1,1)\n",
    "\n",
    "z4=sc2.fit_transform(z1)\n",
    "z5=sc2.transform(z2)\n",
    "\n",
    "z4=z4.reshape(-1)\n",
    "z5=z5.reshape(-1)\n",
    "X2_train[:,-4]=z4\n",
    "X2_test[:,-4]=z5\n",
    "\n"
   ]
  },
  {
   "cell_type": "markdown",
   "metadata": {},
   "source": [
    "### Linear regression on Y2"
   ]
  },
  {
   "cell_type": "code",
   "execution_count": 180,
   "metadata": {},
   "outputs": [],
   "source": [
    "regressor2=LinearRegression()\n",
    "regressor2.fit(X2_train,Y2_train)\n",
    "\n",
    "Y2_pred=regressor2.predict(X2_test)"
   ]
  },
  {
   "cell_type": "markdown",
   "metadata": {},
   "source": [
    "compare predicted values with test values"
   ]
  },
  {
   "cell_type": "code",
   "execution_count": 181,
   "metadata": {},
   "outputs": [
    {
     "name": "stdout",
     "output_type": "stream",
     "text": [
      "[[0.01 0.  ]\n",
      " [0.02 0.  ]\n",
      " [0.02 0.  ]\n",
      " ...\n",
      " [0.02 0.  ]\n",
      " [0.01 0.  ]\n",
      " [0.02 0.  ]]\n"
     ]
    }
   ],
   "source": [
    "compare2=np.concatenate( ( Y2_pred.reshape(len(Y2_pred),1) ,Y2_test.reshape(len(Y2_test),1) ), axis=1)\n",
    "np.set_printoptions(precision=2)\n",
    "print(compare2)"
   ]
  },
  {
   "cell_type": "markdown",
   "metadata": {},
   "source": [
    "### scatter plot - test vs predicted:"
   ]
  },
  {
   "cell_type": "code",
   "execution_count": 182,
   "metadata": {},
   "outputs": [
    {
     "data": {
      "image/png": "[encoded data removed]",
      "text/plain": [
       "<Figure size 432x288 with 1 Axes>"
      ]
     },
     "metadata": {
      "needs_background": "light"
     },
     "output_type": "display_data"
    }
   ],
   "source": [
    "plt.scatter(Y2_pred,Y2_test,color='red')\n",
    "plt.title('predicted values vs test values')\n",
    "plt.show()"
   ]
  },
  {
   "cell_type": "markdown",
   "metadata": {},
   "source": [
    "### Adjusted R-squared value"
   ]
  },
  {
   "cell_type": "code",
   "execution_count": 183,
   "metadata": {},
   "outputs": [
    {
     "name": "stdout",
     "output_type": "stream",
     "text": [
      "adj r2 = 0.01691186194858829\n"
     ]
    }
   ],
   "source": [
    "print('adj r2 =',r2_score(Y2_test,Y2_pred))"
   ]
  },
  {
   "cell_type": "markdown",
   "metadata": {},
   "source": [
    "**From the above adjusted r2 value is low and we can say that the model is insufficient to predict 'MAJOR' injuries.**  \n",
    "**The reason might be  due to low number of observarions for 'MAJOR' injuries, but this r2 values is better that 'FATAL' r2 value.**"
   ]
  },
  {
   "cell_type": "markdown",
   "metadata": {},
   "source": [
    "## Linear model on Y3:  \n",
    "### train, test split - "
   ]
  },
  {
   "cell_type": "code",
   "execution_count": 184,
   "metadata": {},
   "outputs": [],
   "source": [
    "X3_train,X3_test,Y3_train,Y3_test=train_test_split(X,Y3,test_size=0.2,random_state=1)"
   ]
  },
  {
   "cell_type": "markdown",
   "metadata": {},
   "source": [
    "**Standardization -**"
   ]
  },
  {
   "cell_type": "code",
   "execution_count": 185,
   "metadata": {},
   "outputs": [],
   "source": [
    "sc3=StandardScaler()\n",
    "z1=X2_train[:,-4].reshape(-1,1)\n",
    "z2=X2_test[:,-4].reshape(-1,1)\n",
    "z4=sc3.fit_transform(z1)\n",
    "z5=sc3.transform(z2)\n",
    "z4=z4.reshape(-1)\n",
    "z5=z5.reshape(-1)\n",
    "X2_train[:,-4]=z4\n",
    "X2_test[:,-4]=z5\n",
    "\n"
   ]
  },
  {
   "cell_type": "markdown",
   "metadata": {},
   "source": [
    "### Linear regression on Y3"
   ]
  },
  {
   "cell_type": "code",
   "execution_count": 186,
   "metadata": {},
   "outputs": [],
   "source": [
    "regressor3=LinearRegression()\n",
    "regressor3.fit(X3_train,Y3_train)\n",
    "\n",
    "Y3_pred=regressor3.predict(X3_test)"
   ]
  },
  {
   "cell_type": "markdown",
   "metadata": {},
   "source": [
    "compare predicted values with test values"
   ]
  },
  {
   "cell_type": "code",
   "execution_count": 187,
   "metadata": {},
   "outputs": [
    {
     "name": "stdout",
     "output_type": "stream",
     "text": [
      "[[0.12 0.  ]\n",
      " [0.12 0.  ]\n",
      " [0.08 0.  ]\n",
      " ...\n",
      " [0.1  0.  ]\n",
      " [0.2  0.  ]\n",
      " [0.1  0.  ]]\n"
     ]
    }
   ],
   "source": [
    "compare3=np.concatenate( ( Y3_pred.reshape(len(Y3_pred),1) ,Y3_test.reshape(len(Y3_test),1) ), axis=1)\n",
    "np.set_printoptions(precision=2)\n",
    "print(compare3)"
   ]
  },
  {
   "cell_type": "markdown",
   "metadata": {},
   "source": [
    "### scatter plot - test vs predicted:"
   ]
  },
  {
   "cell_type": "code",
   "execution_count": 188,
   "metadata": {},
   "outputs": [
    {
     "data": {
      "image/png": "[encoded data removed]",
      "text/plain": [
       "<Figure size 432x288 with 1 Axes>"
      ]
     },
     "metadata": {
      "needs_background": "light"
     },
     "output_type": "display_data"
    }
   ],
   "source": [
    "plt.scatter(Y3_pred,Y3_test,color='red')\n",
    "plt.title('predicted values vs test values')\n",
    "plt.show()"
   ]
  },
  {
   "cell_type": "markdown",
   "metadata": {},
   "source": [
    "### Adjusted R-squared value"
   ]
  },
  {
   "cell_type": "code",
   "execution_count": 189,
   "metadata": {},
   "outputs": [
    {
     "name": "stdout",
     "output_type": "stream",
     "text": [
      "adj r2 0.09211836381617577\n"
     ]
    }
   ],
   "source": [
    "print('adj r2',r2_score(Y3_test,Y3_pred))"
   ]
  },
  {
   "cell_type": "markdown",
   "metadata": {},
   "source": [
    "**From the above adjusted r2 value is low and we can say that the model is insufficient to predict 'MINOR' injuries.**  \n",
    "**The reason might be  due to low number of observarions for 'MAJOR' injuries, but this r2 values is better that 'FATAL' and 'MAJOR' r2 value.**"
   ]
  },
  {
   "cell_type": "markdown",
   "metadata": {},
   "source": [
    "### policies to implement strongly:\n",
    "To avoid road accidents we should follow following rules:\n",
    "    1. avoid driving above speed limit.\n",
    "    2. avoid driving when the driver is impaired.\n",
    "    3. avoid driving so as the tickets are issued.\n",
    "    these 3 are rules are suggested from observing EDA in above data analysis."
   ]
  },
  {
   "cell_type": "markdown",
   "metadata": {},
   "source": [
    "### JOURNALS-\n",
    "https://www.who.int/violence_injury_prevention/publications/road_traffic/Media_brief_all_factsheets_web_rev_nov_2017.pdf\n",
    "\n",
    "https://www.who.int/violence_injury_prevention/publications/road_traffic/world_report/speed_en.pdf    "
   ]
  }
 ],
 "metadata": {
  "kernelspec": {
   "display_name": "Python 3",
   "language": "python",
   "name": "python3"
  },
  "language_info": {
   "codemirror_mode": {
    "name": "ipython",
    "version": 3
   },
   "file_extension": ".py",
   "mimetype": "text/x-python",
   "name": "python",
   "nbconvert_exporter": "python",
   "pygments_lexer": "ipython3",
   "version": "3.7.3"
  }
 },
 "nbformat": 4,
 "nbformat_minor": 2
}
